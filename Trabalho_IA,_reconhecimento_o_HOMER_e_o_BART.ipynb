{
  "nbformat": 4,
  "nbformat_minor": 0,
  "metadata": {
    "colab": {
      "provenance": [],
      "authorship_tag": "ABX9TyNQVJ3RvdwVVUWQQUWisy2j",
      "include_colab_link": true
    },
    "kernelspec": {
      "name": "python3",
      "display_name": "Python 3"
    },
    "language_info": {
      "name": "python"
    },
    "gpuClass": "standard"
  },
  "cells": [
    {
      "cell_type": "markdown",
      "metadata": {
        "id": "view-in-github",
        "colab_type": "text"
      },
      "source": [
        "<a href=\"https://colab.research.google.com/github/GustavoTeofiloKotelak/Trabalho-De-Intelig-ncia-Artificial/blob/main/Trabalho_IA%2C_reconhecimento_o_HOMER_e_o_BART.ipynb\" target=\"_parent\"><img src=\"https://colab.research.google.com/assets/colab-badge.svg\" alt=\"Open In Colab\"/></a>"
      ]
    },
    {
      "cell_type": "markdown",
      "source": [
        "############## Importação das Bibliotecas ##############"
      ],
      "metadata": {
        "id": "lIKqBpnfBu3Z"
      }
    },
    {
      "cell_type": "code",
      "execution_count": 1,
      "metadata": {
        "id": "6a-PIk1M35eZ",
        "colab": {
          "base_uri": "https://localhost:8080/"
        },
        "outputId": "5d683707-9543-4414-8fe3-27e0368b4454"
      },
      "outputs": [
        {
          "output_type": "stream",
          "name": "stdout",
          "text": [
            "cpu\n"
          ]
        }
      ],
      "source": [
        "import torch\n",
        "import numpy as np\n",
        "from torch import nn, optim\n",
        "\n",
        "from torchvision import datasets, transforms\n",
        "\n",
        "args = {\n",
        "    'num_epochs' : 10,\n",
        "    \n",
        "}\n",
        "\n",
        "if torch.cuda.is_available():\n",
        "  args['device'] = torch.device('cuda')\n",
        "else:\n",
        "  args['device'] = torch.device('cpu')\n",
        "\n",
        "print(args['device'])"
      ]
    },
    {
      "cell_type": "markdown",
      "source": [
        "Construção do modelo, Redes neurais"
      ],
      "metadata": {
        "id": "lddAAnmiB0W0"
      }
    },
    {
      "cell_type": "code",
      "source": [
        "# output = (input - filter + 1) / stride  A cada nova época você vai refinando seu modelo.\n",
        "classificador = nn.Sequential(nn.Conv2d(in_channels=3, out_channels=32, kernel_size = 3), ## Kernel_size 3 é o operador de convolução, o filtro que sera usado na imagem, ## in_channels=3 Significa que serao usadas imagens em RGB\n",
        "                              nn.ReLU(),                                                  ## Função de ativação linear retificada, é uma função linear por partes que produzirá a entrada diretamente se for positiva, caso contrário, produzirá zero.\n",
        "                              nn.BatchNorm2d(num_features=32),                            ## Realiza uma normalização nas Camadas ocultas\n",
        "                              # (64 - 3 + 1) / 1 = 62x62   Resultado do Filtro\n",
        "                              nn.MaxPool2d(kernel_size = 2),                              ##Realiza um ajuste de resolução na imagem sem perder as características principais\n",
        "                              # 31x31\n",
        "                              nn.Conv2d(32, 32, 3),                                       ##Possivilita o aprendizado em duas dirções, altura e largura\n",
        "                              nn.ReLU(),                                                  ## Função de ativação linear retificada\n",
        "                              nn.BatchNorm2d(32),                                         ## Realiza uma normalização nas Camadas ocultas\n",
        "                              # (31 - 3 + 1) / 1 = 29x29   Resultado do Filtro\n",
        "                              nn.MaxPool2d(2),                                            ##Realiza um ajuste de resolução na imagem sem perder as características principais\n",
        "                              #  14x14\n",
        "                              nn.Flatten(),                                               ##Converte a matriz para um vetor\n",
        "                              # 6272 -> 128 -> 128 -> 1    Resultado do Filtro\n",
        "                              nn.Linear(in_features=14*14*32, out_features=128),          ##serão 6272 camadas de entradas conectadas em 128 neuronios \n",
        "                              nn.ReLU(),                                                  ## Função de ativação linear retificada\n",
        "                              nn.Dropout(0.2),                                            ## 20% dos neuronios serao zerados\n",
        "                              nn.Linear(128, 128),                                        ## A primeira camada oculta com 128 neuronio é ligada a uma segunda com 128 neuronios\n",
        "                              nn.ReLU(),                                                  ## Função de ativação linear retificada\n",
        "                              nn.Dropout(0.2),                                            ## 20% dos neuronios serao zerados\n",
        "                              nn.Linear(128, 1),                                          ## A saída em binario ja que o algoritmo vai identificar caes ou gatos\n",
        "                              nn.Sigmoid())                                               ## Retorna o valor da probabilidade"
      ],
      "metadata": {
        "id": "GbW6ZlEJBz1k"
      },
      "execution_count": 2,
      "outputs": []
    },
    {
      "cell_type": "markdown",
      "source": [],
      "metadata": {
        "id": "RQxZUiQBNXFX"
      }
    },
    {
      "cell_type": "code",
      "source": [
        "criterion = nn.BCELoss()                                                        ## Define o critério de perca\n",
        "optimizer = optim.Adam(classificador.parameters())                              ## Adam é um algoritmo de otimização que pode ser usado em vez do procedimento estocástico clássico de gradiente descendente para atualizar pesos de rede de forma iterativa com base em dados de treinamento."
      ],
      "metadata": {
        "id": "eBVsagIIBzzE"
      },
      "execution_count": 3,
      "outputs": []
    },
    {
      "cell_type": "markdown",
      "source": [
        "Permissão para o modelo pegar os dados direto do google drive"
      ],
      "metadata": {
        "id": "FKQ_ySRpHBrf"
      }
    },
    {
      "cell_type": "code",
      "source": [
        "## Permite acessar a base de dados pelo google drive, viabilizando operar em nuvem\n",
        "from google.colab import drive \n",
        "drive.mount('/content/drive')\n"
      ],
      "metadata": {
        "colab": {
          "base_uri": "https://localhost:8080/"
        },
        "id": "XcI9AY32Bziy",
        "outputId": "35a436f1-f20a-45e2-fe50-9ccc20d9824d"
      },
      "execution_count": 4,
      "outputs": [
        {
          "output_type": "stream",
          "name": "stdout",
          "text": [
            "Mounted at /content/drive\n"
          ]
        }
      ]
    },
    {
      "cell_type": "code",
      "source": [
        "## Define a base para o treino e o teste\n",
        "data_dir_train = '/content/drive/MyDrive/datasets/dataset_personagens/dataset_personagens/training_set'\n",
        "data_dir_test = '/content/drive/MyDrive/datasets/dataset_personagens/dataset_personagens/test_set'"
      ],
      "metadata": {
        "id": "cYGkMGRQRhnO"
      },
      "execution_count": 5,
      "outputs": []
    },
    {
      "cell_type": "code",
      "source": [
        "transform_train = transforms.Compose(\n",
        "    [\n",
        "     transforms.Resize([64, 64]),                                                           ## Transforma e redimensiona todas as imagens para o tamanho 64, 64\n",
        "     transforms.RandomHorizontalFlip(),                                                     ## Transforam a imagem Horizontalmente\n",
        "     transforms.RandomAffine(degrees=7, translate=(0, 0.07), shear=0.2, scale=(1, 1.2)),    ## Permite rotacionar a imagem\n",
        "     transforms.ToTensor()                                                                  ## Transforma em Tensor\n",
        "    ]\n",
        ")"
      ],
      "metadata": {
        "id": "DpxN76WxRiFp"
      },
      "execution_count": 6,
      "outputs": []
    },
    {
      "cell_type": "code",
      "source": [
        "transform_test = transforms.Compose(\n",
        "    [                               ### Menos transformações para se realizar os testes \n",
        "     transforms.Resize([64, 64]),   ## Transforma e redimensiona todas as imagens para o tamanho 64, 64\n",
        "     transforms.ToTensor()          ## Transforma em Tensor\n",
        "    ]\n",
        ")"
      ],
      "metadata": {
        "id": "qV_31vKlRh0d"
      },
      "execution_count": 7,
      "outputs": []
    },
    {
      "cell_type": "code",
      "source": [
        "train_dataset = datasets.ImageFolder(data_dir_train, transform=transform_train)  ## Permite que as transformações ocorram em todas as imagens da base de treino"
      ],
      "metadata": {
        "id": "c0XJafO1U_Z1"
      },
      "execution_count": 8,
      "outputs": []
    },
    {
      "cell_type": "code",
      "source": [
        "train_dataset   ## Ao imprimir o dataset do treino podemos ver algumas informações"
      ],
      "metadata": {
        "colab": {
          "base_uri": "https://localhost:8080/"
        },
        "id": "xi-aE6GpVEaa",
        "outputId": "9d611965-feff-4562-92b2-1b74ee76c911"
      },
      "execution_count": 9,
      "outputs": [
        {
          "output_type": "execute_result",
          "data": {
            "text/plain": [
              "Dataset ImageFolder\n",
              "    Number of datapoints: 196\n",
              "    Root location: /content/drive/MyDrive/datasets/dataset_personagens/dataset_personagens/training_set\n",
              "    StandardTransform\n",
              "Transform: Compose(\n",
              "               Resize(size=[64, 64], interpolation=bilinear, max_size=None, antialias=None)\n",
              "               RandomHorizontalFlip(p=0.5)\n",
              "               RandomAffine(degrees=[-7.0, 7.0], translate=(0, 0.07), scale=(1, 1.2), shear=[-0.2, 0.2])\n",
              "               ToTensor()\n",
              "           )"
            ]
          },
          "metadata": {},
          "execution_count": 9
        }
      ]
    },
    {
      "cell_type": "code",
      "source": [
        "train_loader = torch.utils.data.DataLoader(train_dataset, batch_size = 32, shuffle=True)  ## Realiza a transformação da base treino para 0 e 1"
      ],
      "metadata": {
        "id": "98R1uyLkVRAD"
      },
      "execution_count": 10,
      "outputs": []
    },
    {
      "cell_type": "code",
      "source": [
        "test_dataset = datasets.ImageFolder(data_dir_test, transform=transform_test)              ## Permite que as transformações ocorram em todas as imagens da base de teste"
      ],
      "metadata": {
        "id": "ZrRaPJzsVloz"
      },
      "execution_count": 11,
      "outputs": []
    },
    {
      "cell_type": "code",
      "source": [
        "test_dataset  ## Ao imprimir o dataset do teste podemos ver algumas informações"
      ],
      "metadata": {
        "colab": {
          "base_uri": "https://localhost:8080/"
        },
        "id": "6gA95VEfWOZV",
        "outputId": "db933559-a6bc-404e-a902-9f11d4b341d6"
      },
      "execution_count": 12,
      "outputs": [
        {
          "output_type": "execute_result",
          "data": {
            "text/plain": [
              "Dataset ImageFolder\n",
              "    Number of datapoints: 73\n",
              "    Root location: /content/drive/MyDrive/datasets/dataset_personagens/dataset_personagens/test_set\n",
              "    StandardTransform\n",
              "Transform: Compose(\n",
              "               Resize(size=[64, 64], interpolation=bilinear, max_size=None, antialias=None)\n",
              "               ToTensor()\n",
              "           )"
            ]
          },
          "metadata": {},
          "execution_count": 12
        }
      ]
    },
    {
      "cell_type": "code",
      "source": [
        "test_loader = torch.utils.data.DataLoader(test_dataset, batch_size = 32, shuffle=True)     ## ## Realiza a transformação da base teste para 0 e 1"
      ],
      "metadata": {
        "id": "ahUokqYYXjDq"
      },
      "execution_count": 13,
      "outputs": []
    },
    {
      "cell_type": "markdown",
      "source": [
        "######################### Base de dados finalizada #########################"
      ],
      "metadata": {
        "id": "VAXTs28rVniy"
      }
    },
    {
      "cell_type": "code",
      "source": [
        "classificador.to(args['device']) ## Atribui o classificador para o device"
      ],
      "metadata": {
        "id": "83AVBXolX6T4",
        "colab": {
          "base_uri": "https://localhost:8080/"
        },
        "outputId": "565d1bfd-2803-4d23-fba5-9ae4f1cd6189"
      },
      "execution_count": 14,
      "outputs": [
        {
          "output_type": "execute_result",
          "data": {
            "text/plain": [
              "Sequential(\n",
              "  (0): Conv2d(3, 32, kernel_size=(3, 3), stride=(1, 1))\n",
              "  (1): ReLU()\n",
              "  (2): BatchNorm2d(32, eps=1e-05, momentum=0.1, affine=True, track_running_stats=True)\n",
              "  (3): MaxPool2d(kernel_size=2, stride=2, padding=0, dilation=1, ceil_mode=False)\n",
              "  (4): Conv2d(32, 32, kernel_size=(3, 3), stride=(1, 1))\n",
              "  (5): ReLU()\n",
              "  (6): BatchNorm2d(32, eps=1e-05, momentum=0.1, affine=True, track_running_stats=True)\n",
              "  (7): MaxPool2d(kernel_size=2, stride=2, padding=0, dilation=1, ceil_mode=False)\n",
              "  (8): Flatten(start_dim=1, end_dim=-1)\n",
              "  (9): Linear(in_features=6272, out_features=128, bias=True)\n",
              "  (10): ReLU()\n",
              "  (11): Dropout(p=0.2, inplace=False)\n",
              "  (12): Linear(in_features=128, out_features=128, bias=True)\n",
              "  (13): ReLU()\n",
              "  (14): Dropout(p=0.2, inplace=False)\n",
              "  (15): Linear(in_features=128, out_features=1, bias=True)\n",
              "  (16): Sigmoid()\n",
              ")"
            ]
          },
          "metadata": {},
          "execution_count": 14
        }
      ]
    },
    {
      "cell_type": "code",
      "source": [
        "def training_loop(loader, epoch):                                               ## Define o Treino\n",
        "    running_loss = 0.                                                           ## Calcula  o Erro\n",
        "    running_accuracy = 0.                                                       ## Calcula a Acurácia\n",
        "    \n",
        "    for i, data in enumerate(loader):                                           ## Cria o loop de treinamento\n",
        "        inputs, labels = data\n",
        "        inputs, labels = inputs.to(args['device']), labels.to(args['device'])\n",
        "        optimizer.zero_grad()                                                   ## Zera o Gradiente\n",
        "        outputs = classificador(inputs)                                         ## Armazena os valores e retorna 1 (0 ou 1)\n",
        "        \n",
        "        loss = criterion(outputs, labels.float().view(*outputs.shape))          ## Calcula o erro\n",
        "        loss.backward()\n",
        "        \n",
        "        optimizer.step()                                                        ##\n",
        "\n",
        "        running_loss += loss.item()\n",
        "\n",
        "        predicted = torch.tensor([1 if output > 0.5 else 0 for output in outputs]).to(args['device']) ## Se o if for menor que 0.5 e imprime 1, caso contrário imprime 0\n",
        "        \n",
        "        equals = predicted == labels.view(*predicted.shape)\n",
        "        \n",
        "        accuracy = torch.mean(equals.float())                                   ## Faz o calculo da precisão\n",
        "        running_accuracy += accuracy                                      \n",
        "                   \n",
        "        # Imprimindo os dados referentes a esse loop\n",
        "        print('\\rÉPOCA {:3d} - Loop {:3d} de {:3d}: perda {:03.2f}% - precisão {:03.2f}%'.format(epoch + 1, i + 1, len(loader), loss*100, (accuracy*100)), end = '\\r')\n",
        "        \n",
        "    # Imprimindo os dados referentes a essa época\n",
        "    print('\\rÉPOCA {:3d} FINALIZADA: perda {:.5f}% - precisão {:.5f}%'.format(epoch + 1, running_loss/len(loader)*100, \n",
        "                    running_accuracy/len(loader)*100))"
      ],
      "metadata": {
        "id": "H5ZPRuKPRRZd"
      },
      "execution_count": 15,
      "outputs": []
    },
    {
      "cell_type": "code",
      "source": [
        "for epoch in range(args['num_epochs']):       ## Realiza o treinamento com o número de épocas definidas \n",
        "    print('Treinando...')                     ## Imprime \"Treinando\"\n",
        "    training_loop(train_loader, epoch)        ## Realiza o treinamento de acordo com a base e as épocas definidas\n",
        "    classificador.eval()                      ## Coloca o resultado em modo de avaliação\n",
        "    print('Validando...')                     ## Imprime \"Validando\"\n",
        "    training_loop(test_loader, epoch)         ## Realiza o teste de acordo com a base e as épocas definidas\n",
        "    classificador.train()                     ## Coloca o resultado em modo de treinamento novamente"
      ],
      "metadata": {
        "colab": {
          "base_uri": "https://localhost:8080/"
        },
        "id": "6ZLIHNEVRU8X",
        "outputId": "83006987-4cde-4464-ab7e-d345df98f608"
      },
      "execution_count": 16,
      "outputs": [
        {
          "output_type": "stream",
          "name": "stdout",
          "text": [
            "Treinando...\n",
            "ÉPOCA   1 FINALIZADA: perda 61.10542% - precisão 61.60714%\n",
            "Validando...\n",
            "ÉPOCA   1 FINALIZADA: perda 67.35104% - precisão 83.21759%\n",
            "Treinando...\n",
            "ÉPOCA   2 FINALIZADA: perda 56.46831% - precisão 70.08929%\n",
            "Validando...\n",
            "ÉPOCA   2 FINALIZADA: perda 67.36973% - precisão 60.64815%\n",
            "Treinando...\n",
            "ÉPOCA   3 FINALIZADA: perda 36.87186% - precisão 83.03571%\n",
            "Validando...\n",
            "ÉPOCA   3 FINALIZADA: perda 71.46727% - precisão 47.10648%\n",
            "Treinando...\n",
            "ÉPOCA   4 FINALIZADA: perda 69.32447% - precisão 76.78571%\n",
            "Validando...\n",
            "ÉPOCA   4 FINALIZADA: perda 43.01480% - precisão 82.75463%\n",
            "Treinando...\n",
            "ÉPOCA   5 FINALIZADA: perda 43.68972% - precisão 83.03571%\n",
            "Validando...\n",
            "ÉPOCA   5 FINALIZADA: perda 32.10768% - precisão 86.34259%\n",
            "Treinando...\n",
            "ÉPOCA   6 FINALIZADA: perda 26.93608% - precisão 90.17857%\n",
            "Validando...\n",
            "ÉPOCA   6 FINALIZADA: perda 17.90741% - precisão 96.87500%\n",
            "Treinando...\n",
            "ÉPOCA   7 FINALIZADA: perda 20.88053% - precisão 94.64286%\n",
            "Validando...\n",
            "ÉPOCA   7 FINALIZADA: perda 9.20579% - precisão 97.91667%\n",
            "Treinando...\n",
            "ÉPOCA   8 FINALIZADA: perda 20.53107% - precisão 90.62500%\n",
            "Validando...\n",
            "ÉPOCA   8 FINALIZADA: perda 5.28530% - precisão 98.95833%\n",
            "Treinando...\n",
            "ÉPOCA   9 FINALIZADA: perda 29.20481% - precisão 87.05357%\n",
            "Validando...\n",
            "ÉPOCA   9 FINALIZADA: perda 4.69723% - precisão 97.91667%\n",
            "Treinando...\n",
            "ÉPOCA  10 FINALIZADA: perda 27.39154% - precisão 85.71429%\n",
            "Validando...\n",
            "ÉPOCA  10 FINALIZADA: perda 9.02808% - precisão 98.95833%\n"
          ]
        }
      ]
    },
    {
      "cell_type": "code",
      "source": [
        "def classificar_imagem(fname):                                                  ## Define a Classificação da Imagem\n",
        "  from PIL import Image                                                         ## Permite a visualização de imagem\n",
        "  import matplotlib.pyplot as plt \n",
        "  imagem_teste = Image.open(data_dir_test + '/' + fname)                        ## Busca a imagem na base para fazer a leitura\n",
        "  plt.imshow(imagem_teste)                                                      ## Carrega a imagem\n",
        "\n",
        "  ## Pré-processa a imagem de teste\n",
        "  import numpy as np\n",
        "  imagem_teste = imagem_teste.resize((64, 64))                                    \n",
        "  imagem_teste = np.array(imagem_teste.getdata()).reshape(*imagem_teste.size, 3)  \n",
        "  imagem_teste = imagem_teste / 255\n",
        "  imagem_teste = imagem_teste.transpose(2, 0, 1)\n",
        "  imagem_teste = torch.tensor(imagem_teste, dtype=torch.float).view(-1, *imagem_teste.shape)\n",
        "\n",
        "  ## Realiza a classificação das imagens\n",
        "  classificador.eval()                                                          \n",
        "  imagem_teste = imagem_teste.to(args['device'])\n",
        "  output = classificador.forward(imagem_teste)\n",
        "  if output > 0.5:\n",
        "    output = 1\n",
        "  else:\n",
        "    output = 0\n",
        "  print('Previsão: ', output)\n",
        "\n",
        "  idx_to_class = {value: key for key, value in test_dataset.class_to_idx.items()}  # Pega da propria Base o nome de Classificação Ex: Homer\n",
        "\n",
        "  return idx_to_class[output]"
      ],
      "metadata": {
        "id": "wh3DvINYUDMT"
      },
      "execution_count": 17,
      "outputs": []
    },
    {
      "cell_type": "code",
      "metadata": {
        "id": "dUxZY0I1qrNW",
        "colab": {
          "base_uri": "https://localhost:8080/",
          "height": 305
        },
        "outputId": "e6b2c4b8-0b77-4960-82e8-8dd89c8663f4"
      },
      "source": [
        "imagem = '/bart/bart15.bmp'    ## Define a imagem para testar os resultados \n",
        "classificar_imagem(imagem)    ## Classifica a imagem de acordo com o resultado do treinamento "
      ],
      "execution_count": 26,
      "outputs": [
        {
          "output_type": "stream",
          "name": "stdout",
          "text": [
            "Previsão:  0\n"
          ]
        },
        {
          "output_type": "execute_result",
          "data": {
            "text/plain": [
              "'bart'"
            ],
            "application/vnd.google.colaboratory.intrinsic+json": {
              "type": "string"
            }
          },
          "metadata": {},
          "execution_count": 26
        },
        {
          "output_type": "display_data",
          "data": {
            "text/plain": [
              "<Figure size 432x288 with 1 Axes>"
            ],
            "image/png": "[encoded data removed]"
          },
          "metadata": {
            "needs_background": "light"
          }
        }
      ]
    },
    {
      "cell_type": "code",
      "source": [
        "imagem = 'homer/homer2.bmp'      ## Define a imagem para testar os resultados \n",
        "classificar_imagem(imagem)       ## Classifica a imagem de acordo com o resultado do treinamento "
      ],
      "metadata": {
        "id": "Wf-Ji8iKWivd",
        "colab": {
          "base_uri": "https://localhost:8080/",
          "height": 305
        },
        "outputId": "9608021d-130b-4166-c554-10052a3add7d"
      },
      "execution_count": 27,
      "outputs": [
        {
          "output_type": "stream",
          "name": "stdout",
          "text": [
            "Previsão:  1\n"
          ]
        },
        {
          "output_type": "execute_result",
          "data": {
            "text/plain": [
              "'homer'"
            ],
            "application/vnd.google.colaboratory.intrinsic+json": {
              "type": "string"
            }
          },
          "metadata": {},
          "execution_count": 27
        },
        {
          "output_type": "display_data",
          "data": {
            "text/plain": [
              "<Figure size 432x288 with 1 Axes>"
            ],
            "image/png": "[encoded data removed]"
          },
          "metadata": {
            "needs_background": "light"
          }
        }
      ]
    }
  ]
}